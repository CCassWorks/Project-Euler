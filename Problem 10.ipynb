{
 "cells": [
  {
   "cell_type": "markdown",
   "metadata": {},
   "source": [
    "<p>The sum of the primes below $10$ is $2 + 3 + 5 + 7 = 17$.</p>\n",
    "<p>Find the sum of all the primes below two million.</p>"
   ]
  },
  {
   "cell_type": "code",
   "execution_count": 3,
   "metadata": {},
   "outputs": [],
   "source": [
    "import numpy as np\n",
    "\n",
    "p=np.array([2,3])\n",
    "\n",
    "for i in range(4,2000001):\n",
    "    sr = np.floor(np.sqrt(i))\n",
    "    j = 0\n",
    "    marker = True\n",
    "    while marker==True and p[j]<=sr:\n",
    "        if np.mod(i,p[j]) == 0:\n",
    "            marker=False\n",
    "        else:\n",
    "            j=j+1\n",
    "    if marker == True:\n",
    "        p=np.append(p, [i])\n"
   ]
  },
  {
   "cell_type": "code",
   "execution_count": 4,
   "metadata": {},
   "outputs": [
    {
     "name": "stdout",
     "output_type": "stream",
     "text": [
      "[      2       3       5 ... 1999969 1999979 1999993]\n"
     ]
    },
    {
     "data": {
      "text/plain": [
       "1179908154"
      ]
     },
     "execution_count": 4,
     "metadata": {},
     "output_type": "execute_result"
    }
   ],
   "source": [
    "print(p)\n",
    "np.sum(p)"
   ]
  },
  {
   "cell_type": "code",
   "execution_count": 7,
   "metadata": {},
   "outputs": [
    {
     "name": "stdout",
     "output_type": "stream",
     "text": [
      "1179908154\n"
     ]
    }
   ],
   "source": [
    "psum=0\n",
    "for i in range(len(p)):\n",
    "    psum = np.add(psum, p[i])\n",
    "\n",
    "print(psum)"
   ]
  }
 ],
 "metadata": {
  "kernelspec": {
   "display_name": "Python 3",
   "language": "python",
   "name": "python3"
  },
  "language_info": {
   "codemirror_mode": {
    "name": "ipython",
    "version": 3
   },
   "file_extension": ".py",
   "mimetype": "text/x-python",
   "name": "python",
   "nbconvert_exporter": "python",
   "pygments_lexer": "ipython3",
   "version": "3.12.3"
  }
 },
 "nbformat": 4,
 "nbformat_minor": 2
}
