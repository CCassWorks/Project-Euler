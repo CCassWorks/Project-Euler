{
 "cells": [
  {
   "cell_type": "markdown",
   "metadata": {},
   "source": [
    "<p>The following iterative sequence is defined for the set of positive integers:</p>\n",
    "<ul style=\"list-style-type:none;\">\n",
    "<li>$n \\to n/2$ ($n$ is even)</li>\n",
    "<li>$n \\to 3n + 1$ ($n$ is odd)</li></ul>\n",
    "<p>Using the rule above and starting with $13$, we generate the following sequence:\n",
    "$$13 \\to 40 \\to 20 \\to 10 \\to 5 \\to 16 \\to 8 \\to 4 \\to 2 \\to 1.$$</p>\n",
    "<p>It can be seen that this sequence (starting at $13$ and finishing at $1$) contains $10$ terms. Although it has not been proved yet (Collatz Problem), it is thought that all starting numbers finish at $1$.</p>\n",
    "<p>Which starting number, under one million, produces the longest chain?</p>\n",
    "<p class=\"note\"><b>NOTE:</b> Once the chain starts the terms are allowed to go above one million.</p>\n"
   ]
  },
  {
   "cell_type": "code",
   "execution_count": 12,
   "metadata": {},
   "outputs": [],
   "source": [
    "import numpy as np\n",
    "def collatz(chain):\n",
    "    x=chain[len(chain)-1]\n",
    "    if x == 1:\n",
    "        return chain\n",
    "    if np.mod(x,2) == 0:\n",
    "        chain = np.append(chain,[x/2])\n",
    "        return collatz(chain)\n",
    "    if np.mod(x,2)==1:\n",
    "        chain = np.append(chain,[3*x + 1])\n",
    "        return collatz(chain)\n",
    "    \n",
    "\n"
   ]
  },
  {
   "cell_type": "markdown",
   "metadata": {},
   "source": [
    "I have a recursive formulation for the collatz sequence. Hopefully it'll work."
   ]
  },
  {
   "cell_type": "code",
   "execution_count": 14,
   "metadata": {},
   "outputs": [
    {
     "name": "stdout",
     "output_type": "stream",
     "text": [
      "837799\n"
     ]
    }
   ],
   "source": [
    "x=0\n",
    "for i in range(1,1000000):\n",
    "    x_chain = collatz(np.array([i]))\n",
    "    if len(x_chain)>x:\n",
    "        x=len(x_chain)\n",
    "        j=i\n",
    "print(j)"
   ]
  }
 ],
 "metadata": {
  "kernelspec": {
   "display_name": "Python 3",
   "language": "python",
   "name": "python3"
  },
  "language_info": {
   "codemirror_mode": {
    "name": "ipython",
    "version": 3
   },
   "file_extension": ".py",
   "mimetype": "text/x-python",
   "name": "python",
   "nbconvert_exporter": "python",
   "pygments_lexer": "ipython3",
   "version": "3.12.3"
  }
 },
 "nbformat": 4,
 "nbformat_minor": 2
}
