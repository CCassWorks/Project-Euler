{
 "cells": [
  {
   "cell_type": "markdown",
   "metadata": {},
   "source": [
    "<p>Let $d(n)$ be defined as the sum of proper divisors of $n$ (numbers less than $n$ which divide evenly into $n$).<br>\n",
    "If $d(a) = b$ and $d(b) = a$, where $a \\ne b$, then $a$ and $b$ are an amicable pair and each of $a$ and $b$ are called amicable numbers.</p>\n",
    "<p>For example, the proper divisors of $220$ are $1, 2, 4, 5, 10, 11, 20, 22, 44, 55$ and $110$; therefore $d(220) = 284$. The proper divisors of $284$ are $1, 2, 4, 71$ and $142$; so $d(284) = 220$.</p>\n",
    "<p>Evaluate the sum of all the amicable numbers under $10000$.</p>"
   ]
  },
  {
   "cell_type": "code",
   "execution_count": 9,
   "metadata": {},
   "outputs": [
    {
     "name": "stdout",
     "output_type": "stream",
     "text": [
      "[1, 2, 4, 5, 10, 11, 20, 22, 44, 55, 110]\n",
      "284\n",
      "[220, 284]\n"
     ]
    }
   ],
   "source": [
    "import math\n",
    "\n",
    "def propdiv(x):\n",
    "    divs=[]\n",
    "    for i in range(1,math.ceil(x/2)+1):\n",
    "        if x % i == 0:\n",
    "            divs.append(i)\n",
    "\n",
    "    return divs\n",
    "\n",
    "print(propdiv(220))\n",
    "print(sum(propdiv(220)))\n",
    "def amicable(x):\n",
    "    divs1 = propdiv(x)\n",
    "    divsum1 = sum(divs1)\n",
    "    divs2 = propdiv(divsum1)\n",
    "    divsum2 = sum(divs2)\n",
    "    if divsum2 == x and x != divsum1:\n",
    "        return [x,divsum1]\n",
    "    \n",
    "print(amicable(220))"
   ]
  },
  {
   "cell_type": "markdown",
   "metadata": {},
   "source": [
    "I now have a function that can tell if two numbers are amicable. Now I think it is time for us to loop through and find the pairs."
   ]
  },
  {
   "cell_type": "code",
   "execution_count": 13,
   "metadata": {},
   "outputs": [
    {
     "name": "stdout",
     "output_type": "stream",
     "text": [
      "[220, 284, 1184, 1210, 2620, 2924, 5020, 5564, 6232, 6368]\n",
      "31626\n"
     ]
    }
   ],
   "source": [
    "list=[]\n",
    "for i in range(2, 10000):\n",
    "    x=amicable(i)\n",
    "    if x != None:\n",
    "        if x[0] not in list and x[1] not in list:\n",
    "            list.append(x[0])\n",
    "            list.append(x[1])\n",
    "    \n",
    "print(list)\n",
    "print(sum(list))\n"
   ]
  }
 ],
 "metadata": {
  "kernelspec": {
   "display_name": "Python 3",
   "language": "python",
   "name": "python3"
  },
  "language_info": {
   "codemirror_mode": {
    "name": "ipython",
    "version": 3
   },
   "file_extension": ".py",
   "mimetype": "text/x-python",
   "name": "python",
   "nbconvert_exporter": "python",
   "pygments_lexer": "ipython3",
   "version": "3.10.11"
  }
 },
 "nbformat": 4,
 "nbformat_minor": 2
}
