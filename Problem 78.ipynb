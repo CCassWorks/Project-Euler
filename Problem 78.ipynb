{
 "cells": [
  {
   "cell_type": "markdown",
   "metadata": {},
   "source": [
    "<p>Let $p(n)$ represent the number of different ways in which $n$ coins can be separated into piles. For example, five coins can be separated into piles in exactly seven different ways, so $p(5)=7$.</p>\n",
    "<div class=\"margin_left\">\n",
    "OOOOO<br>\n",
    "OOOO   O<br>\n",
    "OOO   OO<br>\n",
    "OOO   O   O<br>\n",
    "OO   OO   O<br>\n",
    "OO   O   O   O<br>\n",
    "O   O   O   O   O\n",
    "</div>\n",
    "<p>Find the least value of $n$ for which $p(n)$ is divisible by one million.</p>\n"
   ]
  },
  {
   "cell_type": "code",
   "execution_count": 1,
   "metadata": {},
   "outputs": [
    {
     "name": "stdout",
     "output_type": "stream",
     "text": [
      "[1.0]\n"
     ]
    }
   ],
   "source": [
    "import numpy as np\n",
    "\n",
    "\n",
    "def pentagonal(x):\n",
    "    y = 3*x**2 - x\n",
    "    y = y/2\n",
    "    return y\n",
    "\n",
    "def sequence_add(seq):\n",
    "    if seq[len(seq)-1] > 0:\n",
    "        return seq.append(-seq[len(seq)-1])\n",
    "    else: #seq[len(seq)-1] <= 1:\n",
    "        return seq.append(-seq[len(seq)-1]+1)\n",
    "    \n",
    "seq=[1]\n",
    "pent=[pentagonal(1)]\n",
    "print(pent)\n",
    "\n",
    "def pn(n,seq,pent,p):\n",
    "    s=0\n",
    "    #print(p)\n",
    "    for i in range(len(seq)):\n",
    "        s=s+((-1)**(seq[i]-1))*p[int(n-pent[i])]\n",
    "        #print(s)\n",
    "    #print(p)\n",
    "    #print(s)\n",
    "    p.append(s)\n",
    "    #print(p)\n",
    "    return p\n"
   ]
  },
  {
   "cell_type": "markdown",
   "metadata": {},
   "source": [
    "The pentagonal definition gives the form to calculate the generalized pentagonal numbers.\n",
    "\n",
    "The sequence add function adds additional numbers into the sequence to continue building out the sequence of numbers and to build the sequence of generalized pentagonal numbers.\n",
    "\n",
    "The function pn takes in n, the generalized sequence, the pentagonal numbers, and the array of p(n) values. It then uses the recurrence relation to build up the next p(n) number."
   ]
  },
  {
   "cell_type": "code",
   "execution_count": 2,
   "metadata": {},
   "outputs": [
    {
     "name": "stdout",
     "output_type": "stream",
     "text": [
      "[1, 1]\n"
     ]
    }
   ],
   "source": [
    "p=[1]\n",
    "\n",
    "p1=pn(len(p),seq, pent, p)\n",
    "print(p1)\n"
   ]
  },
  {
   "cell_type": "code",
   "execution_count": 3,
   "metadata": {},
   "outputs": [
    {
     "name": "stdout",
     "output_type": "stream",
     "text": [
      "[1, -1]\n",
      "[1.0, 2.0]\n"
     ]
    }
   ],
   "source": [
    "sequence_add(seq)\n",
    "print(seq)\n",
    "\n",
    "pent.append(pentagonal(seq[len(seq)-1]))\n",
    "print(pent)\n"
   ]
  },
  {
   "cell_type": "markdown",
   "metadata": {},
   "source": [
    "sequence_add works as well as pentagonal.\n",
    "\n"
   ]
  },
  {
   "cell_type": "code",
   "execution_count": 4,
   "metadata": {},
   "outputs": [
    {
     "name": "stdout",
     "output_type": "stream",
     "text": [
      "[1, 1]\n"
     ]
    }
   ],
   "source": [
    "print(p)\n",
    "\n",
    "while np.mod(p[len(p)-1], 1000000) != 0:\n",
    "    #print(p)\n",
    "    if pent[len(pent)-1]<len(p):\n",
    "        sequence_add(seq)\n",
    "        pent.append(pentagonal(seq[len(seq)-1]))\n",
    "    if pent[len(pent)-1]>len(p):\n",
    "        pn(len(p),seq[:len(seq)-1],pent[:len(pent)-1],p)\n",
    "    else:\n",
    "        pn(len(p),seq,pent,p)\n",
    "\n"
   ]
  },
  {
   "cell_type": "code",
   "execution_count": 5,
   "metadata": {},
   "outputs": [
    {
     "name": "stdout",
     "output_type": "stream",
     "text": [
      "4097\n",
      "[1.0, 2.0, 5.0, 7.0, 12.0, 15.0, 22.0, 26.0, 35.0, 40.0, 51.0, 57.0, 70.0, 77.0, 92.0, 100.0, 117.0, 126.0, 145.0, 155.0, 176.0, 187.0, 210.0, 222.0, 247.0, 260.0, 287.0, 301.0, 330.0, 345.0, 376.0, 392.0, 425.0, 442.0, 477.0, 495.0, 532.0, 551.0, 590.0, 610.0, 651.0, 672.0, 715.0, 737.0, 782.0, 805.0, 852.0, 876.0, 925.0, 950.0, 1001.0, 1027.0, 1080.0, 1107.0, 1162.0, 1190.0, 1247.0, 1276.0, 1335.0, 1365.0, 1426.0, 1457.0, 1520.0, 1552.0, 1617.0, 1650.0, 1717.0, 1751.0, 1820.0, 1855.0, 1926.0, 1962.0, 2035.0, 2072.0, 2147.0, 2185.0, 2262.0, 2301.0, 2380.0, 2420.0, 2501.0, 2542.0, 2625.0, 2667.0, 2752.0, 2795.0, 2882.0, 2926.0, 3015.0, 3060.0, 3151.0, 3197.0, 3290.0, 3337.0, 3432.0, 3480.0, 3577.0, 3626.0, 3725.0, 3775.0, 3876.0, 3927.0, 4030.0, 4082.0, 4187.0]\n",
      "[1, -1, 2, -2, 3, -3, 4, -4, 5, -5, 6, -6, 7, -7, 8, -8, 9, -9, 10, -10, 11, -11, 12, -12, 13, -13, 14, -14, 15, -15, 16, -16, 17, -17, 18, -18, 19, -19, 20, -20, 21, -21, 22, -22, 23, -23, 24, -24, 25, -25, 26, -26, 27, -27, 28, -28, 29, -29, 30, -30, 31, -31, 32, -32, 33, -33, 34, -34, 35, -35, 36, -36, 37, -37, 38, -38, 39, -39, 40, -40, 41, -41, 42, -42, 43, -43, 44, -44, 45, -45, 46, -46, 47, -47, 48, -48, 49, -49, 50, -50, 51, -51, 52, -52, 53]\n"
     ]
    },
    {
     "data": {
      "text/plain": [
       "4240.0"
      ]
     },
     "execution_count": 5,
     "metadata": {},
     "output_type": "execute_result"
    }
   ],
   "source": [
    "print(len(p))\n",
    "print(pent)\n",
    "print(seq)\n",
    "pentagonal(-53)\n"
   ]
  },
  {
   "cell_type": "markdown",
   "metadata": {},
   "source": [
    "Well that did not work. Now it's time to approach this from the generating function side of things.\n",
    "\n",
    "To that end I'll have to learn how to use sympy, which seems quite similar to matlab and mathematica in notation."
   ]
  },
  {
   "cell_type": "code",
   "execution_count": 17,
   "metadata": {},
   "outputs": [
    {
     "data": {
      "text/latex": [
       "$\\displaystyle 1 + x + 2 x^{2} + 3 x^{3} + 5 x^{4} + 7 x^{5} + 11 x^{6} + 15 x^{7} + 22 x^{8} + O\\left(x^{9}\\right)$"
      ],
      "text/plain": [
       "1 + x + 2*x**2 + 3*x**3 + 5*x**4 + 7*x**5 + 11*x**6 + 15*x**7 + 22*x**8 + O(x**9)"
      ]
     },
     "execution_count": 17,
     "metadata": {},
     "output_type": "execute_result"
    }
   ],
   "source": [
    "import sympy as sp\n",
    "\n",
    "x = sp.symbols('x')\n",
    "\n",
    "f=1\n",
    "for i in range(1,9):\n",
    "    f=f*(1-x**i)**(-1)\n",
    "\n",
    "f.series(x,0,9)"
   ]
  }
 ],
 "metadata": {
  "kernelspec": {
   "display_name": "Python 3",
   "language": "python",
   "name": "python3"
  },
  "language_info": {
   "codemirror_mode": {
    "name": "ipython",
    "version": 3
   },
   "file_extension": ".py",
   "mimetype": "text/x-python",
   "name": "python",
   "nbconvert_exporter": "python",
   "pygments_lexer": "ipython3",
   "version": "3.12.6"
  }
 },
 "nbformat": 4,
 "nbformat_minor": 2
}
